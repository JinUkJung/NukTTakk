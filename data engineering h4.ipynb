#!/usr/bin/env python
# coding: utf-8

# In[3]:


month=['쌍', '쇠', '복', '돌', '팽', '육', '쌍', '개', '칠', '갑', '삼', '방']
day=['봉', '구', '욕', '포', '똥', '삼', '식', '석', '놈', '님', '년', '돌', '단', '득', '방', '질', '장', '걸', '래', '룡', '동', '순', '자', '박', '창', '언', '것', '포', '만', '단', '국']
def get_my_chosun_name(last_name,m,d):
    first=month[m-1]
    second=day[d-1]
    print("당신의 조선시대 이름은 %s%s%s 입니다."%(last_name,first,second))
    
get_my_chosun_name('정',11,30)

