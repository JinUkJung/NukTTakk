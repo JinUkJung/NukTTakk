!pip install seaborn

import numpy as np
import pandas as pd
from matplotlib import pyplot as plt
import seaborn

data = pd.read_csv('data/president_heights.csv')
data.head()

heights = np.array(data['height(cm)'])
print(heights)

Mean_height=heights.mean()
Standard_deviation=heights.std()
Minimum_height=heights.min()
Maximum_height=heights.max()
_25th_percentile=np.percentile(heights,25)
Median=np.median(heights)
_75th_percentile=np.percentile(heights,75)

max_idx=heights.argmax()
min_idx=heights.argmin()
max_name = data.iloc[max_idx]['name']
min_name = data.iloc[min_idx]['name']

print("The tallest president is", max_name)
print("The smallest president is", min_name)

%matplotlib inline
%config InlineBackend.figure_format = 'svg'
seaborn.set()

plt.hist(heights)
plt.title('Height Distribution of US President')
plt.xlabel('height (cm)')
plt.ylabel('number')
plt.show()
