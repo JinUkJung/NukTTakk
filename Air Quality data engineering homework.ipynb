#!/usr/bin/env python
# coding: utf-8

# In[3]:


import pandas as pd
import numpy as np
from pandas import datetime
from matplotlib import pyplot as plt

"""
Load AirQualityUCI Data
"""

def parser(x):
    return datetime.strptime(x, '%Y-%m-%d %H:%M:%S')

input_file = './data/AirQualityUCI_refined.csv'

df = pd.read_csv(input_file,
                 index_col=[0],
                 parse_dates=[0],
                 date_parser=parser)

df.head()


# In[4]:


# Visualization setup
get_ipython().run_line_magic('matplotlib', '')
from matplotlib import pyplot as plt
import seaborn; seaborn.set()  # set plot styles
get_ipython().run_line_magic('config', "InlineBackend.figure_format = 'svg'")
plt.rcParams['figure.figsize'] = [10, 5]
plt.ion() # enable the interactive mode


# In[5]:


# Visualize the 'PT08.S3(NOX)' variable
df['PT08.S3(NOx)'].plot()


# In[6]:


# Linear interpolation
pt=df['PT08.S3(NOx)'].copy()
pt.interpolate(inplace=True)


# In[7]:


# Visualize original and imputed data
plt.plot(df['PT08.S3(NOx)'], label='original', zorder=2)
plt.plot(pt, label='linear interpolation', zorder=1)
plt.legend(loc='best')


# In[8]:


# Detecting outliers using Boxplot
plt.boxplot(pt)
plt.title("Detecting outliers using Boxplot")
plt.xlabel('PT08.S3(NOx)')


# In[9]:


# Calculate correlations between variables
corr_matrix=df.corr()
corr_matrix


# In[10]:


# Choose the least correlated variable
rh = df['RH'].copy().interpolate() # Relative Humidity


# In[11]:


# Visualize a scatter plot(NOX, RH)
plt.scatter(pt, rh, s=12, c='black')
plt.xlabel('PT08.S3(NOx)')
plt.ylabel('RH')
plt.title("Detecting outliers using Boxplot")


# In[12]:


# Choose the most correlated variable
nmhc = df['PT08.S2(NMHC)'].copy().interpolate() # NMHC: Non-metanic Hydrocarbon


# In[13]:


# Visualize a scatter plot(CO, NMHC)
plt.scatter(pt, nmhc, s=12, c='black')
plt.xlabel('PT08.S3(NOx)')
plt.ylabel("NMHC")


# In[14]:


"""
IQR-based Outlier Detection
"""

# Q1, Q2(median), Q3
q1=pt.quantile(0.25) #upper 25%
median=pt.quantile(0.50) #median 50% 
q3=pt.quantile(0.75) #lower 75%
print(q1, median, q3)


# In[15]:


# IQR, upper_fence, lower_fence
IQR= q3-q1
upper_fence=q3+1.5*IQR
lower_fence=q1-1.5*IQR
print(IQR, upper_fence, lower_fence)


# In[16]:


# Filtering the outliers
outliers=pt.loc[(pt>upper_fence)|(pt<0)]
outliers


# In[17]:


# Mask for outliers
mask=pt.index.isin(outliers.index)
mask[:50] 


# In[18]:


# Visualize the normal data and outliers ~: not
plt.plot(pt[~mask], label='normal', color='blue',
    marker='o', markersize=3, linestyle='None')
plt.plot(outliers, label='outliers', color='red',
    marker='x', markersize=3, linestyle='None')
plt.legend(loc='best')


# In[19]:


#Removing the outliers
pt_refined=pt.copy()
pt_refined[mask]=np.nan
print(pt_refined[mask])


# In[20]:


# Linear interpolation for reconstructing outliers removed.
pt_refined.interpolate(inplace=True)
pt_refined.plot()


# In[21]:


pip install seaborn


# In[22]:


"""
Detecting Outliers with Z-Scores
"""

# Visualize the distribution of the 'CO(GT)' variable
import seaborn as sns

sns.displot(pt)


# In[23]:


# Mean, Standard deviation
mean=np.mean(pt)
std= np.std(pt) #표준편차
print(mean, std)


# In[24]:


# Calculate Z-scores for each data points
outliers=[]
thres=3

for i in pt:
    z_scores=(i-mean)/std
    if (np.abs(z_scores)>thres): #abs - 절대값을 구하는 메소드
        print(z_scores)
        outliers.append(i)


# In[25]:


# Simplified version of filtering outliers
outliers=pt.loc[np.abs((pt-mean)/std) > 3]
outliers


# In[26]:


# Mask for outliers
mask=pt.index.isin(outliers.index) #z_scores 기반으로 했더니 결과가 달라짐 => True 두 개 -> 한 개
mask[:50]


# In[27]:


# Comparison of distributions before/after outlier removal
sns.distplot(pt, axlabel='PT08.S3(NOx)', label='original')
sns.distplot(pt[~mask], label='outliers removed')
plt.legend(loc='best')

# [exer] Adjust thres


# In[ ]:


# Flooring and Capping


# In[ ]:


# Visualize the result

